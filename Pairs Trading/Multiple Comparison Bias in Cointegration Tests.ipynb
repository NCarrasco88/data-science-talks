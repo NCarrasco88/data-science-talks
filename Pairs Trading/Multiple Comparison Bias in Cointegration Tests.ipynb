{
 "cells": [
  {
   "cell_type": "code",
   "execution_count": 1,
   "metadata": {},
   "outputs": [],
   "source": [
    "import numpy as np\n",
    "import pandas as pd\n",
    "\n",
    "from matplotlib import pyplot as plt\n",
    "from statsmodels import api as sm\n",
    "from statsmodels.tsa.stattools import coint\n",
    "from statsmodels.stats.multitest import multipletests\n",
    "from tqdm import tqdm\n",
    "\n",
    "plt.style.use('ggplot')"
   ]
  },
  {
   "cell_type": "markdown",
   "metadata": {},
   "source": [
    "# Test for cointegrated pairs from 50 simulated stocks"
   ]
  },
  {
   "cell_type": "code",
   "execution_count": 2,
   "metadata": {
    "scrolled": true
   },
   "outputs": [
    {
     "name": "stderr",
     "output_type": "stream",
     "text": [
      "100%|██████████████████████████████████████████████████████████████████████████████| 1225/1225 [01:06<00:00, 18.30it/s]\n"
     ]
    }
   ],
   "source": [
    "sig = 0.05   # significance threshold\n",
    "n_obs = 365  # 1 year of simulated daily data\n",
    "n_stocks = 50\n",
    "\n",
    "n_comparisons = int(np.ceil((n_stocks * (n_stocks - 1)) / 2))  # 50 choose 2\n",
    "\n",
    "false_positives = 0\n",
    "\n",
    "def generate_random_i1_series(n_obs, n_series):\n",
    "    return np.random.randn(n_obs * n_series).reshape((n_obs, n_series)).cumsum(axis=0) * np.random.randn(n_series)\n",
    "\n",
    "A = generate_random_i1_series(n_obs, n_comparisons)\n",
    "B = generate_random_i1_series(n_obs, n_comparisons)\n",
    "\n",
    "pvalues = np.zeros(n_comparisons)\n",
    "for i in tqdm(range(n_comparisons)):\n",
    "    a = A[:, i]\n",
    "    b = B[:, i]\n",
    "    \n",
    "    t, pvalue, crits = coint(A[:, i], B[:, i])\n",
    "    pvalues[i] = pvalue"
   ]
  },
  {
   "cell_type": "code",
   "execution_count": 3,
   "metadata": {},
   "outputs": [
    {
     "name": "stdout",
     "output_type": "stream",
     "text": [
      "Number of false positives from 1225 comparisons (unadjusted p-values): 51\n"
     ]
    }
   ],
   "source": [
    "print(f'Number of false positives from {n_comparisons} comparisons (unadjusted p-values): {(pvalues < sig).sum():d}')"
   ]
  },
  {
   "cell_type": "markdown",
   "metadata": {},
   "source": [
    "# Adjust p-values using the Holm-Sidak step-down method"
   ]
  },
  {
   "cell_type": "code",
   "execution_count": 4,
   "metadata": {},
   "outputs": [],
   "source": [
    "reject, pvalues_corrected, alpha_sidak, alpha_bonf = multipletests(pvalues, method='holm-sidak', alpha=sig)"
   ]
  },
  {
   "cell_type": "code",
   "execution_count": 5,
   "metadata": {},
   "outputs": [
    {
     "name": "stdout",
     "output_type": "stream",
     "text": [
      "Number of false positives from 1225 comparisons (adjusted p-values): 0\n"
     ]
    }
   ],
   "source": [
    "print(f'Number of false positives from {n_comparisons} comparisons (adjusted p-values): {(pvalues_corrected < sig).sum():d}')"
   ]
  }
 ],
 "metadata": {
  "kernelspec": {
   "display_name": "Python 3",
   "language": "python",
   "name": "python3"
  },
  "language_info": {
   "codemirror_mode": {
    "name": "ipython",
    "version": 3
   },
   "file_extension": ".py",
   "mimetype": "text/x-python",
   "name": "python",
   "nbconvert_exporter": "python",
   "pygments_lexer": "ipython3",
   "version": "3.7.9"
  }
 },
 "nbformat": 4,
 "nbformat_minor": 4
}
